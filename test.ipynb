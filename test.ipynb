{
 "cells": [
  {
   "cell_type": "code",
   "execution_count": 15,
   "metadata": {},
   "outputs": [],
   "source": [
    "import importlib\n",
    "import multiprocessing\n",
    "import cantera\n",
    "import pandas as pd\n",
    "import numpy as np\n",
    "import igndelay\n",
    "from tqdm import tqdm\n",
    "from igndelay import chemkin, cantera, mechs, mp_util\n",
    "import matplotlib.pyplot as plt"
   ]
  },
  {
   "cell_type": "code",
   "execution_count": 24,
   "metadata": {},
   "outputs": [
    {
     "data": {
      "text/plain": [
       "<module 'igndelay.mp_util' from 'e:\\\\Code\\\\selfignition-delay\\\\igndelay\\\\mp_util.py'>"
      ]
     },
     "execution_count": 24,
     "metadata": {},
     "output_type": "execute_result"
    }
   ],
   "source": [
    "importlib.reload(chemkin)\n",
    "importlib.reload(mechs)\n",
    "importlib.reload(mp_util)"
   ]
  },
  {
   "cell_type": "code",
   "execution_count": 20,
   "metadata": {},
   "outputs": [
    {
     "name": "stderr",
     "output_type": "stream",
     "text": [
      "\n",
      " 83%|████████▎ | 10/12 [07:04<01:24, 42.48s/it]\n",
      "\n",
      "\u001b[A\n",
      "Converting mechanisms: 100%|██████████| 12/12 [00:09<00:00,  1.25it/s]\n"
     ]
    }
   ],
   "source": [
    "expdata = igndelay.experimental()\n",
    "mechanisms = mechs.find_mechs()\n",
    "ck_env = chemkin.CKEnv(r\"E:\\Soft\\ANSYS Inc\\v172\\reaction\\chemkinpro.win64\\bin\")\n",
    "ct_mechs = [mechs.cantera_conv(name, mech) for (name,mech) in tqdm(mechanisms.items(), desc='Converting mechanisms')]"
   ]
  },
  {
   "cell_type": "code",
   "execution_count": 32,
   "metadata": {},
   "outputs": [],
   "source": [
    "poolargs = [('ct', (mech, expdata['T, K'][i], expdata['p, атм'][i])) for mech in ct_mechs for i in range(expdata.shape[0])]"
   ]
  },
  {
   "cell_type": "code",
   "execution_count": 33,
   "metadata": {},
   "outputs": [
    {
     "name": "stderr",
     "output_type": "stream",
     "text": [
      "input:  15%|█▌        | 104/672 [02:28<31:42,  3.35s/it] "
     ]
    }
   ],
   "source": [
    "if __name__=='__main__':\n",
    "    with multiprocessing.Pool() as pool:\n",
    "        mpd = pool.map(mp_util.worker, tqdm(poolargs, 'input'), 1)\n",
    "        pool.close()\n",
    "        pool.join()"
   ]
  },
  {
   "cell_type": "code",
   "execution_count": 46,
   "metadata": {},
   "outputs": [],
   "source": [
    "# rsk = chemkin.run_ck_refl(test_env, test_mech, 1534, 49)\n",
    "# psr = chemkin.run_ck_psr(test_env, test_mech, 1534, 49)\n",
    "# ct = cantera.run_ign('mechanisms/GriMech12/grimech12.yaml', 1534, 49)"
   ]
  }
 ],
 "metadata": {
  "interpreter": {
   "hash": "16b459dbec3fb176d1a445455a4c7fef678f00a464f46e2baf0729292585dee1"
  },
  "kernelspec": {
   "display_name": "Python 3.9.7 64-bit (conda)",
   "language": "python",
   "name": "python3"
  },
  "language_info": {
   "codemirror_mode": {
    "name": "ipython",
    "version": 3
   },
   "file_extension": ".py",
   "mimetype": "text/x-python",
   "name": "python",
   "nbconvert_exporter": "python",
   "pygments_lexer": "ipython3",
   "version": "3.9.7"
  },
  "orig_nbformat": 4
 },
 "nbformat": 4,
 "nbformat_minor": 2
}
