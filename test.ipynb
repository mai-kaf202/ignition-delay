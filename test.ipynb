{
 "cells": [
  {
   "cell_type": "code",
   "execution_count": 1,
   "metadata": {},
   "outputs": [],
   "source": [
    "import cantera\n",
    "import pandas as pd\n",
    "import igndelay"
   ]
  },
  {
   "cell_type": "code",
   "execution_count": 2,
   "metadata": {},
   "outputs": [],
   "source": [
    "exp = igndelay.experimental()"
   ]
  },
  {
   "cell_type": "code",
   "execution_count": 6,
   "metadata": {},
   "outputs": [
    {
     "data": {
      "text/plain": [
       "[2.54, 1688.0]"
      ]
     },
     "execution_count": 6,
     "metadata": {},
     "output_type": "execute_result"
    }
   ],
   "source": [
    "[x for x in exp.iloc[0][:2]]"
   ]
  },
  {
   "cell_type": "code",
   "execution_count": 1,
   "metadata": {},
   "outputs": [],
   "source": [
    "import os"
   ]
  },
  {
   "cell_type": "code",
   "execution_count": null,
   "metadata": {},
   "outputs": [],
   "source": [
    "'CKReactorGenericClosed -i \"E:\\Code\\selfignition-delay\\instance\\ck\\test.inp\" -o \"E:\\Code\\selfignition-delay\\instance\\ck\\test.out\" -x \"E:\\Code\\selfignition-delay\\instance\\ck\\XMLdata_test.zip\" Pro -m \"test.out.mon\" -c \"E:\\Code\\selfignition-delay\\instance\\ck\\ZhukovKongCH4_gas.asc\" -t \"E:\\Code\\selfignition-delay\\instance\\ck\\ZhukovKongCH4_gtran.asc\" '"
   ]
  }
 ],
 "metadata": {
  "interpreter": {
   "hash": "16b459dbec3fb176d1a445455a4c7fef678f00a464f46e2baf0729292585dee1"
  },
  "kernelspec": {
   "display_name": "Python 3.9.7 64-bit (conda)",
   "language": "python",
   "name": "python3"
  },
  "language_info": {
   "codemirror_mode": {
    "name": "ipython",
    "version": 3
   },
   "file_extension": ".py",
   "mimetype": "text/x-python",
   "name": "python",
   "nbconvert_exporter": "python",
   "pygments_lexer": "ipython3",
   "version": "3.9.7"
  },
  "orig_nbformat": 4
 },
 "nbformat": 4,
 "nbformat_minor": 2
}
